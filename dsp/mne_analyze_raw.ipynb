{
 "cells": [
  {
   "cell_type": "code",
   "execution_count": 3,
   "metadata": {},
   "outputs": [
    {
     "name": "stdout",
     "output_type": "stream",
     "text": [
      "\n",
      ">> Select file to analyze:\n",
      "\n",
      "   0 : 02-10-2024-14:39:07.csv\n",
      "   1 : 02-10-2024-14:34:08.csv\n",
      "   2 : 02-10-2024-14:33:31.csv\n",
      "   3 : 02-10-2024-14:32:12.csv\n",
      "   4 : 02-10-2024-14:31:51.csv\n",
      "\n",
      "OK, opening:  02-10-2024-14:39:07.csv\n",
      "Creating RawArray with float64 data, n_channels=6, n_times=7186\n",
      "    Range : 0 ... 7185 =      0.000 ...     7.185 secs\n",
      "Ready.\n",
      "Using qt as 2D backend.\n",
      "Using pyopengl with version 3.1.7\n"
     ]
    },
    {
     "data": {
      "text/plain": [
       "<mne_qt_browser._pg_figure.MNEQtBrowser at 0x16df25700>"
      ]
     },
     "execution_count": 3,
     "metadata": {},
     "output_type": "execute_result"
    },
    {
     "name": "stdout",
     "output_type": "stream",
     "text": [
      "Channels marked as bad:\n",
      "none\n"
     ]
    }
   ],
   "source": [
    "import csv\n",
    "import numpy as np\n",
    "import pandas as pd\n",
    "import matplotlib.pyplot as plt\n",
    "import subprocess\n",
    "import mne\n",
    "import mne_qt_browser\n",
    "from scipy.stats import skew, kurtosis\n",
    "\n",
    "session_id = \"test_240210\"\n",
    "task_type = \"gestures\"\n",
    "task_id = \"fist_clenches\"\n",
    "\n",
    "# execute ls, sort files by date created\n",
    "output = subprocess.run([\"ls -t ../data/unsorted\"], stdout=subprocess.PIPE, shell=True, text=True)\n",
    "# show only the last 5 files, line by line\n",
    "files = output.stdout.split(\"\\n\")[:-1][:5]\n",
    "filename = None\n",
    "i = 0\n",
    "print(\"\\n>> Select file to analyze:\\n\")\n",
    "for file in files:\n",
    "    print(\"  \", i, \":\", file)\n",
    "    i += 1\n",
    "index = input(\"\\n>> \")\n",
    "if index == \"\":\n",
    "    index = 0 # if no input, default to the most recent file\n",
    "    filename = files[index]\n",
    "    print(\"\\nOK, most recent file: \", filename)\n",
    "else:\n",
    "    index = int(index)\n",
    "    filename = files[index]\n",
    "    print(\"\\nOK, opening: \", filename)\n",
    "\n",
    "\n",
    "#csv_file_path = f\"../../data/{task_type}/{session_id}/{task_id}.csv\"\n",
    "csv_file_path = f\"../data/unsorted/{filename}\"\n",
    "\n",
    "df = pd.read_csv(csv_file_path)\n",
    "df = df.iloc[:, 1:] # remove first column (millis)\n",
    "df = df.iloc[:, :-1] # remove last column (event)\n",
    "data = df.values\n",
    "data = data.T\n",
    "\n",
    "# run notch filter at 30, 60, 90, and 120 Hz\n",
    "# convert to floats\n",
    "data = data.astype(float)\n",
    "#data = mne.filter.notch_filter(data, Fs=200, freqs=[30, 60, 90], verbose=True)\n",
    "\n",
    "mne.set_config('MNE_BROWSER_BACKEND', 'qt')\n",
    "\n",
    "ch_names = ['Hall'] + [f'Channel {i}' for i in range(data.shape[0]-1)]\n",
    "\n",
    "sfreq = 1000  # Replace with your actual sampling frequency\n",
    "info = mne.create_info(ch_names=ch_names, sfreq=sfreq, ch_types='eeg')\n",
    "raw = mne.io.RawArray(data, info)\n",
    "raw.plot(show_scrollbars=True, block=False, scalings=\"auto\")"
   ]
  }
 ],
 "metadata": {
  "kernelspec": {
   "display_name": "venv",
   "language": "python",
   "name": "python3"
  },
  "language_info": {
   "codemirror_mode": {
    "name": "ipython",
    "version": 3
   },
   "file_extension": ".py",
   "mimetype": "text/x-python",
   "name": "python",
   "nbconvert_exporter": "python",
   "pygments_lexer": "ipython3",
   "version": "3.9.18"
  }
 },
 "nbformat": 4,
 "nbformat_minor": 2
}
